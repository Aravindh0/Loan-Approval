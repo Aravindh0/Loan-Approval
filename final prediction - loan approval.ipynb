{
 "cells": [
  {
   "cell_type": "markdown",
   "id": "b5f55466",
   "metadata": {},
   "source": [
    "# LOAN APPROVAL PREDICTION - FINAL PREDICTION"
   ]
  },
  {
   "cell_type": "markdown",
   "id": "618ac3b7",
   "metadata": {},
   "source": [
    "## Importing the libraries"
   ]
  },
  {
   "cell_type": "code",
   "execution_count": 1,
   "id": "f8af7122",
   "metadata": {},
   "outputs": [],
   "source": [
    "import joblib as jb\n",
    "feature_selection=jb.load('files/train/model/feature_selected_model.pkl')\n",
    "encode_model=jb.load('files/train/model/train_encode_model.pkl')\n",
    "model=jb.load('files/train/model/lor.pkl')"
   ]
  },
  {
   "cell_type": "code",
   "execution_count": 2,
   "id": "19fa9c4b",
   "metadata": {},
   "outputs": [],
   "source": [
    "import pandas as pd\n",
    "import matplotlib.pyplot as plt\n",
    "import seaborn as sns\n",
    "from sklearn.metrics import classification_report,confusion_matrix,ConfusionMatrixDisplay"
   ]
  },
  {
   "cell_type": "markdown",
   "id": "eef78356",
   "metadata": {},
   "source": [
    "**Create a def function called flow that takes two parameters as x_path,y_path. The steps for creating the def function is as folllows**"
   ]
  },
  {
   "cell_type": "code",
   "execution_count": 3,
   "id": "63e3f9c8",
   "metadata": {},
   "outputs": [],
   "source": [
    "def flow(x_path,y_path):\n",
    "    #read\n",
    "    x_test=pd.read_csv(x_path)\n",
    "    y_test=pd.read_csv(y_path)\n",
    "    \n",
    "    #encode\n",
    "    encode_data=encode_model.transform(x_test)\n",
    "    encode_data=pd.DataFrame(encode_data,columns=x_test.columns)\n",
    "    y_test=y_test.replace({' Approved':1,' Rejected':0})\n",
    "    \n",
    "    #feature selection\n",
    "    feature_selected=encode_data[feature_selection]\n",
    "    \n",
    "    #predict\n",
    "    y_pred=pd.DataFrame(model.predict(feature_selected))\n",
    "    \n",
    "    #metrics\n",
    "    report=classification_report(y_pred,y_test)\n",
    "    cm=confusion_matrix(y_pred,y_test)\n",
    "    disp=ConfusionMatrixDisplay(confusion_matrix=cm)\n",
    "    \n",
    "    return y_pred,report,cm,disp"
   ]
  },
  {
   "cell_type": "code",
   "execution_count": 4,
   "id": "1802e822",
   "metadata": {},
   "outputs": [],
   "source": [
    "y_pred,report,cm,disp=flow('test data/x.csv','test data/y.csv')"
   ]
  },
  {
   "cell_type": "code",
   "execution_count": 5,
   "id": "23876f43",
   "metadata": {},
   "outputs": [
    {
     "data": {
      "text/html": [
       "<div>\n",
       "<style scoped>\n",
       "    .dataframe tbody tr th:only-of-type {\n",
       "        vertical-align: middle;\n",
       "    }\n",
       "\n",
       "    .dataframe tbody tr th {\n",
       "        vertical-align: top;\n",
       "    }\n",
       "\n",
       "    .dataframe thead th {\n",
       "        text-align: right;\n",
       "    }\n",
       "</style>\n",
       "<table border=\"1\" class=\"dataframe\">\n",
       "  <thead>\n",
       "    <tr style=\"text-align: right;\">\n",
       "      <th></th>\n",
       "      <th>0</th>\n",
       "    </tr>\n",
       "  </thead>\n",
       "  <tbody>\n",
       "    <tr>\n",
       "      <th>0</th>\n",
       "      <td>1</td>\n",
       "    </tr>\n",
       "    <tr>\n",
       "      <th>1</th>\n",
       "      <td>1</td>\n",
       "    </tr>\n",
       "    <tr>\n",
       "      <th>2</th>\n",
       "      <td>0</td>\n",
       "    </tr>\n",
       "    <tr>\n",
       "      <th>3</th>\n",
       "      <td>1</td>\n",
       "    </tr>\n",
       "    <tr>\n",
       "      <th>4</th>\n",
       "      <td>1</td>\n",
       "    </tr>\n",
       "    <tr>\n",
       "      <th>...</th>\n",
       "      <td>...</td>\n",
       "    </tr>\n",
       "    <tr>\n",
       "      <th>1276</th>\n",
       "      <td>1</td>\n",
       "    </tr>\n",
       "    <tr>\n",
       "      <th>1277</th>\n",
       "      <td>1</td>\n",
       "    </tr>\n",
       "    <tr>\n",
       "      <th>1278</th>\n",
       "      <td>0</td>\n",
       "    </tr>\n",
       "    <tr>\n",
       "      <th>1279</th>\n",
       "      <td>1</td>\n",
       "    </tr>\n",
       "    <tr>\n",
       "      <th>1280</th>\n",
       "      <td>1</td>\n",
       "    </tr>\n",
       "  </tbody>\n",
       "</table>\n",
       "<p>1281 rows × 1 columns</p>\n",
       "</div>"
      ],
      "text/plain": [
       "      0\n",
       "0     1\n",
       "1     1\n",
       "2     0\n",
       "3     1\n",
       "4     1\n",
       "...  ..\n",
       "1276  1\n",
       "1277  1\n",
       "1278  0\n",
       "1279  1\n",
       "1280  1\n",
       "\n",
       "[1281 rows x 1 columns]"
      ]
     },
     "execution_count": 5,
     "metadata": {},
     "output_type": "execute_result"
    }
   ],
   "source": [
    "y_pred"
   ]
  },
  {
   "cell_type": "code",
   "execution_count": 6,
   "id": "f9bc1ab5",
   "metadata": {},
   "outputs": [
    {
     "name": "stdout",
     "output_type": "stream",
     "text": [
      "              precision    recall  f1-score   support\n",
      "\n",
      "           0       0.71      0.86      0.78       420\n",
      "           1       0.92      0.83      0.87       861\n",
      "\n",
      "    accuracy                           0.84      1281\n",
      "   macro avg       0.82      0.84      0.83      1281\n",
      "weighted avg       0.85      0.84      0.84      1281\n",
      "\n"
     ]
    }
   ],
   "source": [
    "print(report)"
   ]
  },
  {
   "cell_type": "code",
   "execution_count": 7,
   "id": "d2744e44",
   "metadata": {},
   "outputs": [
    {
     "data": {
      "text/plain": [
       "<sklearn.metrics._plot.confusion_matrix.ConfusionMatrixDisplay at 0x1bba475d900>"
      ]
     },
     "execution_count": 7,
     "metadata": {},
     "output_type": "execute_result"
    },
    {
     "data": {
      "image/png": "[encoded data removed]",
      "text/plain": [
       "<Figure size 640x480 with 2 Axes>"
      ]
     },
     "metadata": {},
     "output_type": "display_data"
    }
   ],
   "source": [
    "disp.plot()"
   ]
  },
  {
   "cell_type": "code",
   "execution_count": null,
   "id": "f72a1936",
   "metadata": {},
   "outputs": [],
   "source": []
  }
 ],
 "metadata": {
  "kernelspec": {
   "display_name": "Python 3 (ipykernel)",
   "language": "python",
   "name": "python3"
  },
  "language_info": {
   "codemirror_mode": {
    "name": "ipython",
    "version": 3
   },
   "file_extension": ".py",
   "mimetype": "text/x-python",
   "name": "python",
   "nbconvert_exporter": "python",
   "pygments_lexer": "ipython3",
   "version": "3.10.9"
  }
 },
 "nbformat": 4,
 "nbformat_minor": 5
}
